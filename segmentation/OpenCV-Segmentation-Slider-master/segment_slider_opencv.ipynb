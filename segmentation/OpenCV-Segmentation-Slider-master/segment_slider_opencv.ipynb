{
 "cells": [
  {
   "cell_type": "code",
   "execution_count": null,
   "metadata": {},
   "outputs": [],
   "source": [
    "# original link https://github.com/zainkhan-afk/OpenCV-Segmentation-Slider "
   ]
  },
  {
   "cell_type": "code",
   "execution_count": 2,
   "metadata": {},
   "outputs": [],
   "source": [
    "from Sliders_tunned import Sliders"
   ]
  },
  {
   "cell_type": "code",
   "execution_count": 2,
   "metadata": {},
   "outputs": [],
   "source": [
    "slider = Sliders(\"page6.png\", slider_type = \"HSV\", image_scale = 1, num_blur_passes = 1, blur_filter_size = (3, 3))\n",
    "# image_scale = 1 исходный размер изображения, уменьшение дает уменьшение качества, при этом - уменьшение окон вывода cv2.imshow\n",
    "# диапазон от 0 до 1"
   ]
  },
  {
   "cell_type": "code",
   "execution_count": 3,
   "metadata": {},
   "outputs": [],
   "source": [
    "# инициализация класса и вызов метода\n",
    "slider.Start_Slider_Display()\n",
    "\n",
    "# ---- ИНСТРУКЦИЯ -----\n",
    "# stop by \"q\" button\n",
    "# добавлена опция сохранения результатов маски\n",
    "# write mask file by \"w\" button - чувствительны к регистру и языковой раскладке"
   ]
  },
  {
   "cell_type": "code",
   "execution_count": 3,
   "metadata": {},
   "outputs": [],
   "source": [
    "# фильтр Canny по поиску краев изображения\n",
    "slider2 = Sliders(\"Images/his_grey.png\", slider_type=\"CANNY\", image_scale = 1, num_blur_passes = 1, blur_filter_size = (3, 3))"
   ]
  },
  {
   "cell_type": "code",
   "execution_count": 4,
   "metadata": {},
   "outputs": [],
   "source": [
    "slider2.Start_Slider_Display()"
   ]
  }
 ],
 "metadata": {
  "kernelspec": {
   "display_name": "Python 3",
   "language": "python",
   "name": "python3"
  },
  "language_info": {
   "codemirror_mode": {
    "name": "ipython",
    "version": 3
   },
   "file_extension": ".py",
   "mimetype": "text/x-python",
   "name": "python",
   "nbconvert_exporter": "python",
   "pygments_lexer": "ipython3",
   "version": "3.10.0"
  },
  "orig_nbformat": 4
 },
 "nbformat": 4,
 "nbformat_minor": 2
}
